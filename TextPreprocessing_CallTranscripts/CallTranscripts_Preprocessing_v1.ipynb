{
 "cells": [
  {
   "cell_type": "code",
   "execution_count": 28,
   "metadata": {},
   "outputs": [],
   "source": [
    "import numpy as np\n",
    "import pandas as pd\n",
    "import re\n"
   ]
  },
  {
   "cell_type": "code",
   "execution_count": 3,
   "metadata": {},
   "outputs": [
    {
     "data": {
      "text/plain": [
       "1869"
      ]
     },
     "execution_count": 3,
     "metadata": {},
     "output_type": "execute_result"
    }
   ],
   "source": [
    "# data = pd.read_csv('../Call_Transcripts_Seeking_Alpha/CallTranscriptsFITB.txt', sep=\" \", header=None)\n",
    "file = open('/Users/akshitachawdhary/Desktop/DA_Davidson/Capstone_NLP_DIWD/Call_Transcripts_Seeking_Alpha/CallTranscriptsFITB.txt','r', encoding='cp1252') \n",
    "fullCallTranscript = file.readlines()   #.split('Question-and-Answer Session')\n",
    "len(fullCallTranscript)\n",
    "# text = (file.readlines())"
   ]
  },
  {
   "cell_type": "code",
   "execution_count": 4,
   "metadata": {},
   "outputs": [],
   "source": [
    "q_and_a_index = fullCallTranscript.index(\"Question-and-Answer Session\\n\")"
   ]
  },
  {
   "cell_type": "code",
   "execution_count": 5,
   "metadata": {},
   "outputs": [],
   "source": [
    "# Divide the transcript into initial summary and Q & A Session\n",
    "q_and_a = fullCallTranscript[q_and_a_index:]\n",
    "summary = fullCallTranscript[:q_and_a_index]"
   ]
  },
  {
   "cell_type": "code",
   "execution_count": 6,
   "metadata": {},
   "outputs": [],
   "source": [
    "execIndex = summary.index(\"Executives\\n\")\n",
    "analystIndex = summary.index(\"Analysts\\n\")\n",
    "operatorIndex = summary.index(\"Operator\\n\")"
   ]
  },
  {
   "cell_type": "code",
   "execution_count": 7,
   "metadata": {},
   "outputs": [
    {
     "name": "stdout",
     "output_type": "stream",
     "text": [
      "['Jenn Thompson - Director, IR\\n', 'Andrew Cecere - Chairman, President and CEO\\n', 'Terrance Dolan - Vice Chairman and CFO\\n']\n"
     ]
    },
    {
     "data": {
      "text/plain": [
       "{'Andrew Cecere': 'Chairman, President and CEO',\n",
       " 'Jenn Thompson': 'Director, IR',\n",
       " 'Terrance Dolan': 'Vice Chairman and CFO'}"
      ]
     },
     "execution_count": 7,
     "metadata": {},
     "output_type": "execute_result"
    }
   ],
   "source": [
    "executives = summary[execIndex + 1 : analystIndex]\n",
    "print(executives)\n",
    "executiveDict = {}\n",
    "for e in executives:\n",
    "    name, position = e.split('-')\n",
    "    executiveDict[name.strip()] = position.strip()\n",
    "executiveDict"
   ]
  },
  {
   "cell_type": "code",
   "execution_count": 8,
   "metadata": {},
   "outputs": [
    {
     "name": "stdout",
     "output_type": "stream",
     "text": [
      "['John McDonald - Sanford C. Bernstein & Co., LLC\\n', 'John Pancari - Evercore ISI\\n', \"Matthew O'Connor - Deutsche Bank\\n\", 'Kenneth Usdin - Jefferies & Company, Inc.\\n', 'Erika Najarian - Bank of America Merrill Lynch\\n', \"Scott Siefers - Sandler O'Neill + Partners, L.P\\n\", 'Betsy Graseck - Morgan Stanley\\n', 'Mike Mayo - Wells Fargo Securities\\n', 'Marty Mosby - Vining Sparks\\n', 'Kevin Barker - Piper Jaffray\\n', 'Vivek Juneja - JPMorgan Chase & Company\\n', 'Saul Martinez - UBS\\n', 'Gerard Cassidy - RBC Capital Markets\\n', 'Brian Klock - Keefe, Bruyette & Woods\\n']\n"
     ]
    },
    {
     "data": {
      "text/plain": [
       "{'Betsy Graseck': 'Morgan Stanley',\n",
       " 'Brian Klock': 'Keefe, Bruyette & Woods',\n",
       " 'Erika Najarian': 'Bank of America Merrill Lynch',\n",
       " 'Gerard Cassidy': 'RBC Capital Markets',\n",
       " 'John McDonald': 'Sanford C. Bernstein & Co., LLC',\n",
       " 'John Pancari': 'Evercore ISI',\n",
       " 'Kenneth Usdin': 'Jefferies & Company, Inc.',\n",
       " 'Kevin Barker': 'Piper Jaffray',\n",
       " 'Marty Mosby': 'Vining Sparks',\n",
       " \"Matthew O'Connor\": 'Deutsche Bank',\n",
       " 'Mike Mayo': 'Wells Fargo Securities',\n",
       " 'Saul Martinez': 'UBS',\n",
       " 'Scott Siefers': \"Sandler O'Neill + Partners, L.P\",\n",
       " 'Vivek Juneja': 'JPMorgan Chase & Company'}"
      ]
     },
     "execution_count": 8,
     "metadata": {},
     "output_type": "execute_result"
    }
   ],
   "source": [
    "analysts = summary[analystIndex +1: operatorIndex]\n",
    "print(analysts)\n",
    "\n",
    "analystsDict = {}\n",
    "for a in analysts:\n",
    "    name, company = a.split('-')\n",
    "    analystsDict[name.strip()] = company.strip()\n",
    "analystsDict"
   ]
  },
  {
   "cell_type": "code",
   "execution_count": 9,
   "metadata": {},
   "outputs": [
    {
     "name": "stdout",
     "output_type": "stream",
     "text": [
      "Chairman, President and CEO I'd ask Terry to start, then I'll jump in.\n",
      " And John, Andy. As we look at next year, I would highlight a couple of things. As we've talked about, we've lapped the payments to the merchant revenue issue and you saw that that's growing 4%. We continue to expect that to accelerate as we go into next quarter and next year.\n",
      " Yes, it is.\n",
      " And John, importantly, we're not assuming that surcharge goes away as we think about positive operating leverage in 2019.\n",
      " Sure.\n",
      " Good morning.\n",
      " Hey Matt.\n",
      " Matt, this is Andy. We were talking about that, the 0.9% accelerating to a higher number on a linked-quarter basis.\n",
      " Thanks Matt.\n",
      " Hey Ken.\n",
      " And Terry our deposit beta assumptions have been consistent with what's happening.\n",
      " Thanks Ken.\n",
      " Good morning Erika.\n",
      " You start there second question.\n",
      " And then Erika on your question on private equity you're now in bank or non-bank competition, I would say that is evident in some of the wholesale categories. I think it's probably most prominent in our commercial real estate category where some of the pay downs that are occurring are because of non-bank competition coming into the marketplace. But as we said and as Terry said in his remarks that is starting to abate here as we come into the third and fourth quarter.\n",
      " And the fourth quarter, Terry, is actually higher than the third quarter. So, we'll see a little bit of an increase in that -- in the fourth quarter because of that.\n",
      " Third quarter to fourth quarter?\n",
      " And Erika maybe one thing that I would just kind of add to that. I think when you end up looking our business mix, so this is one of the things that we've talked about in the past, the business mix having the strong fee base sort of businesses and payments, et cetera and with consumer spend continuing to get stronger, I just see that as something that differentiates us as we think about the future.\n",
      " Morning Scott.\n",
      " Yes, so the corporate trust business is a great -- not only great fee business, but it's a great deposit gathering business. And as Terry mentioned, there's two components to it, one is operational nature and the flows that occur will continue to occur regardless of the rate environment because it is a flow between the bond issuer and the bond holder.\n",
      " Yes. So, I mean that sale is so impressed. Maybe I can just step back a little bit. That is very specific to third-party ATM processing and it's also the sale of our MoneyPass debit card network and so it's not related to our payments business. As I knew there was a little bit of confusion on that early, so I just want to make sure that actually--\n",
      " Yes. And the -- it would end up kind of dimensional, so 2017 revenue for that business on an annualized basis was $170 million. On a quarterly basis, third quarter, I believe the revenue was around $45 million and then the efficiency ratio of that business pretty similar to the rest of our company maybe a slightly higher, but pretty similar to the rest of our company. So, if you kind of take that information, you can get some sense, both in terms of fourth quarter and 2019.\n",
      " Thanks Scott.\n",
      " Morning Betsy.\n",
      " Well, one of the things we talked about is we are investing in both traditional as we talked about the expansion in our commercial banking business as well as more of the digital and payments businesses. We did an acquisition in the third quarter as we talked about we are continuing to expand our capabilities on our mobile application, our capabilities in terms of sales activity on that application. And everything you think about from an investment standpoint as a little bit of a digital focus on it. So that will continue.\n",
      " Yes, so the CapEx related to technology is about $1.2 billion. And as Terry and I have talked about in the past, our operating expense related that probably another $1.5 billion. So, if you combine the two, it's just over $2.5 billion, but the CapEx that we talked about is $1.2 billion.\n",
      " Thanks Betsy.\n",
      " Hey Mike.\n",
      " I can give it to you now. So, we have 18 million total customers. If I exclude single service customers, so some of our mortgage customers, card customers, and indirect customers who outside our market -- what they would call full banking customers were about 11 million and of 11 million about 50% use our digital platform.\n",
      " The majority of that is mobile.\n",
      " Yes, I want to be real clear on one thing it's not taking any more risk. Our credit box has not changed at all and we've been very prudent and strict around and disciplined for a long time and that is not changing at all.\n",
      " Yes, we've opened up a few offices in the south, the Dallas area and the south -- and the southeast New York. We'll look at other opportunities like this and it's typically leveraging presence that we already have in the market. And we talked about that also thinking about our consumer expansion doing the same, building a customer base that we already have.\n",
      " Thanks Mike.\n",
      " And we've been managing to optimize it all along, right?\n",
      " Thanks Marty.\n",
      " Good morning Kevin,\n",
      " Hey Vivek.\n",
      " Yes, yes we can hear you. Thank you. Good morning.\n",
      " Good morning Saul.\n",
      " I'm hopeful Saul, as I think about our balance sheet, our business mix, our risk profile, our trading book which is you know minimal, all those characteristics are more like a smaller regional bank or medium-sized regional bank there like the large money center banks. So, as you know 2155 [ph] talks about the tailoring shall occur and if you think about tailoring based on risk characteristics, I'm hopeful that we'll get some relief.\n",
      " Good morning Gerard.\n",
      " Yes Gerard, I don't think our mix is all that different. I do think in those time periods, we were in the midst of acquiring corporate trust businesses that they have impacted the activity in the deposits because we were growing -- we've done 22 acquisitions in corporate trust over the years, many of them in the years that you describe. So, that may be a factor in the comps.\n",
      " We have. We completed our activity and our verification from an internal standpoint on June 30th consistent with our schedule. It now sits with the regulators and we're hopeful.\n",
      " Yes, the duration is about four years.\n",
      " Good morning Brian.\n",
      " Thanks Brian.\n",
      " Good morning everyone and thank you for joining our call. Following our prepared remarks, Terry and I will be opening up the call to Q&A.\n",
      " Thanks Terry. The second half of 2018 is shaping up as we had anticipated and momentum is building on our core businesses as we head into the end of the year. We expect the loan growth to continue to accelerate in the fourth quarter and our fee businesses remain on a good trajectory. Merchant acquiring revenue growth is gaining momentum and our other two payments businesses, retail card issuing and corporate payment services, are firing on all cylinders.\n",
      " I'd ask Terry to start, then I'll jump in.\n",
      " And John, Andy. As we look at next year, I would highlight a couple of things. As we've talked about, we've lapped the payments to the merchant revenue issue and you saw that that's growing 4%. We continue to expect that to accelerate as we go into next quarter and next year.\n",
      " Yes, it is.\n",
      " And John, importantly, we're not assuming that surcharge goes away as we think about positive operating leverage in 2019.\n",
      " Sure.\n",
      " Good morning.\n",
      " Hey Matt.\n",
      " Matt, this is Andy. We were talking about that, the 0.9% accelerating to a higher number on a linked-quarter basis.\n",
      " Thanks Matt.\n",
      " Hey Ken.\n",
      " And Terry our deposit beta assumptions have been consistent with what's happening.\n",
      " Thanks Ken.\n",
      " Good morning Erika.\n",
      " You start there second question.\n",
      " And then Erika on your question on private equity you're now in bank or non-bank competition, I would say that is evident in some of the wholesale categories. I think it's probably most prominent in our commercial real estate category where some of the pay downs that are occurring are because of non-bank competition coming into the marketplace. But as we said and as Terry said in his remarks that is starting to abate here as we come into the third and fourth quarter.\n",
      " And the fourth quarter, Terry, is actually higher than the third quarter. So, we'll see a little bit of an increase in that -- in the fourth quarter because of that.\n",
      " Third quarter to fourth quarter?\n",
      " And Erika maybe one thing that I would just kind of add to that. I think when you end up looking our business mix, so this is one of the things that we've talked about in the past, the business mix having the strong fee base sort of businesses and payments, et cetera and with consumer spend continuing to get stronger, I just see that as something that differentiates us as we think about the future.\n",
      " Morning Scott.\n",
      " Yes, so the corporate trust business is a great -- not only great fee business, but it's a great deposit gathering business. And as Terry mentioned, there's two components to it, one is operational nature and the flows that occur will continue to occur regardless of the rate environment because it is a flow between the bond issuer and the bond holder.\n",
      " Yes. So, I mean that sale is so impressed. Maybe I can just step back a little bit. That is very specific to third-party ATM processing and it's also the sale of our MoneyPass debit card network and so it's not related to our payments business. As I knew there was a little bit of confusion on that early, so I just want to make sure that actually--\n",
      " Yes. And the -- it would end up kind of dimensional, so 2017 revenue for that business on an annualized basis was $170 million. On a quarterly basis, third quarter, I believe the revenue was around $45 million and then the efficiency ratio of that business pretty similar to the rest of our company maybe a slightly higher, but pretty similar to the rest of our company. So, if you kind of take that information, you can get some sense, both in terms of fourth quarter and 2019.\n",
      " Thanks Scott.\n",
      " Morning Betsy.\n",
      " Well, one of the things we talked about is we are investing in both traditional as we talked about the expansion in our commercial banking business as well as more of the digital and payments businesses. We did an acquisition in the third quarter as we talked about we are continuing to expand our capabilities on our mobile application, our capabilities in terms of sales activity on that application. And everything you think about from an investment standpoint as a little bit of a digital focus on it. So that will continue.\n",
      " Yes, so the CapEx related to technology is about $1.2 billion. And as Terry and I have talked about in the past, our operating expense related that probably another $1.5 billion. So, if you combine the two, it's just over $2.5 billion, but the CapEx that we talked about is $1.2 billion.\n",
      " Thanks Betsy.\n",
      " Hey Mike.\n",
      " I can give it to you now. So, we have 18 million total customers. If I exclude single service customers, so some of our mortgage customers, card customers, and indirect customers who outside our market -- what they would call full banking customers were about 11 million and of 11 million about 50% use our digital platform.\n",
      " The majority of that is mobile.\n",
      " Yes, I want to be real clear on one thing it's not taking any more risk. Our credit box has not changed at all and we've been very prudent and strict around and disciplined for a long time and that is not changing at all.\n",
      " Yes, we've opened up a few offices in the south, the Dallas area and the south -- and the southeast New York. We'll look at other opportunities like this and it's typically leveraging presence that we already have in the market. And we talked about that also thinking about our consumer expansion doing the same, building a customer base that we already have.\n",
      " Thanks Mike.\n",
      " And we've been managing to optimize it all along, right?\n",
      " Thanks Marty.\n",
      " Good morning Kevin,\n",
      " Hey Vivek.\n",
      " Yes, yes we can hear you. Thank you. Good morning.\n",
      " Good morning Saul.\n",
      " I'm hopeful Saul, as I think about our balance sheet, our business mix, our risk profile, our trading book which is you know minimal, all those characteristics are more like a smaller regional bank or medium-sized regional bank there like the large money center banks. So, as you know 2155 [ph] talks about the tailoring shall occur and if you think about tailoring based on risk characteristics, I'm hopeful that we'll get some relief.\n",
      " Good morning Gerard.\n",
      " Yes Gerard, I don't think our mix is all that different. I do think in those time periods, we were in the midst of acquiring corporate trust businesses that they have impacted the activity in the deposits because we were growing -- we've done 22 acquisitions in corporate trust over the years, many of them in the years that you describe. So, that may be a factor in the comps.\n",
      " We have. We completed our activity and our verification from an internal standpoint on June 30th consistent with our schedule. It now sits with the regulators and we're hopeful.\n",
      " Yes, the duration is about four years.\n",
      " Good morning Brian.\n",
      " Thanks Brian.\n",
      " Good morning everyone and thank you for joining our call. Following our prepared remarks, Terry and I will be opening up the call to Q&A.\n",
      " Thanks Terry. The second half of 2018 is shaping up as we had anticipated and momentum is building on our core businesses as we head into the end of the year. We expect the loan growth to continue to accelerate in the fourth quarter and our fee businesses remain on a good trajectory. Merchant acquiring revenue growth is gaining momentum and our other two payments businesses, retail card issuing and corporate payment services, are firing on all cylinders.\n",
      " I'd ask Terry to start, then I'll jump in.\n",
      " And John, Andy. As we look at next year, I would highlight a couple of things. As we've talked about, we've lapped the payments to the merchant revenue issue and you saw that that's growing 4%. We continue to expect that to accelerate as we go into next quarter and next year.\n",
      " Yes, it is.\n",
      " And John, importantly, we're not assuming that surcharge goes away as we think about positive operating leverage in 2019.\n",
      " Sure.\n",
      " Good morning.\n",
      " Hey Matt.\n",
      " Matt, this is Andy. We were talking about that, the 0.9% accelerating to a higher number on a linked-quarter basis.\n",
      " Thanks Matt.\n",
      " Hey Ken.\n",
      " And Terry our deposit beta assumptions have been consistent with what's happening.\n",
      " Thanks Ken.\n",
      " Good morning Erika.\n",
      " You start there second question.\n",
      " And then Erika on your question on private equity you're now in bank or non-bank competition, I would say that is evident in some of the wholesale categories. I think it's probably most prominent in our commercial real estate category where some of the pay downs that are occurring are because of non-bank competition coming into the marketplace. But as we said and as Terry said in his remarks that is starting to abate here as we come into the third and fourth quarter.\n",
      " And the fourth quarter, Terry, is actually higher than the third quarter. So, we'll see a little bit of an increase in that -- in the fourth quarter because of that.\n",
      " Third quarter to fourth quarter?\n",
      " And Erika maybe one thing that I would just kind of add to that. I think when you end up looking our business mix, so this is one of the things that we've talked about in the past, the business mix having the strong fee base sort of businesses and payments, et cetera and with consumer spend continuing to get stronger, I just see that as something that differentiates us as we think about the future.\n",
      " Morning Scott.\n",
      " Yes, so the corporate trust business is a great -- not only great fee business, but it's a great deposit gathering business. And as Terry mentioned, there's two components to it, one is operational nature and the flows that occur will continue to occur regardless of the rate environment because it is a flow between the bond issuer and the bond holder.\n",
      " Yes. So, I mean that sale is so impressed. Maybe I can just step back a little bit. That is very specific to third-party ATM processing and it's also the sale of our MoneyPass debit card network and so it's not related to our payments business. As I knew there was a little bit of confusion on that early, so I just want to make sure that actually--\n",
      " Yes. And the -- it would end up kind of dimensional, so 2017 revenue for that business on an annualized basis was $170 million. On a quarterly basis, third quarter, I believe the revenue was around $45 million and then the efficiency ratio of that business pretty similar to the rest of our company maybe a slightly higher, but pretty similar to the rest of our company. So, if you kind of take that information, you can get some sense, both in terms of fourth quarter and 2019.\n",
      " Thanks Scott.\n",
      " Morning Betsy.\n",
      " Well, one of the things we talked about is we are investing in both traditional as we talked about the expansion in our commercial banking business as well as more of the digital and payments businesses. We did an acquisition in the third quarter as we talked about we are continuing to expand our capabilities on our mobile application, our capabilities in terms of sales activity on that application. And everything you think about from an investment standpoint as a little bit of a digital focus on it. So that will continue.\n",
      " Yes, so the CapEx related to technology is about $1.2 billion. And as Terry and I have talked about in the past, our operating expense related that probably another $1.5 billion. So, if you combine the two, it's just over $2.5 billion, but the CapEx that we talked about is $1.2 billion.\n",
      " Thanks Betsy.\n",
      " Hey Mike.\n",
      " I can give it to you now. So, we have 18 million total customers. If I exclude single service customers, so some of our mortgage customers, card customers, and indirect customers who outside our market -- what they would call full banking customers were about 11 million and of 11 million about 50% use our digital platform.\n",
      " The majority of that is mobile.\n",
      " Yes, I want to be real clear on one thing it's not taking any more risk. Our credit box has not changed at all and we've been very prudent and strict around and disciplined for a long time and that is not changing at all.\n",
      " Yes, we've opened up a few offices in the south, the Dallas area and the south -- and the southeast New York. We'll look at other opportunities like this and it's typically leveraging presence that we already have in the market. And we talked about that also thinking about our consumer expansion doing the same, building a customer base that we already have.\n",
      " Thanks Mike.\n",
      " And we've been managing to optimize it all along, right?\n",
      " Thanks Marty.\n",
      " Good morning Kevin,\n",
      " Hey Vivek.\n",
      " Yes, yes we can hear you. Thank you. Good morning.\n",
      " Good morning Saul.\n",
      " I'm hopeful Saul, as I think about our balance sheet, our business mix, our risk profile, our trading book which is you know minimal, all those characteristics are more like a smaller regional bank or medium-sized regional bank there like the large money center banks. So, as you know 2155 [ph] talks about the tailoring shall occur and if you think about tailoring based on risk characteristics, I'm hopeful that we'll get some relief.\n",
      " Good morning Gerard.\n",
      " Yes Gerard, I don't think our mix is all that different. I do think in those time periods, we were in the midst of acquiring corporate trust businesses that they have impacted the activity in the deposits because we were growing -- we've done 22 acquisitions in corporate trust over the years, many of them in the years that you describe. So, that may be a factor in the comps.\n",
      " We have. We completed our activity and our verification from an internal standpoint on June 30th consistent with our schedule. It now sits with the regulators and we're hopeful.\n",
      " Yes, the duration is about four years.\n",
      " Good morning Brian.\n",
      " Thanks Brian.\n",
      " Good morning everyone and thank you for joining our call. Following our prepared remarks, Terry and I will be opening up the call to Q&A.\n",
      " Thanks Terry. The second half of 2018 is shaping up as we had anticipated and momentum is building on our core businesses as we head into the end of the year. We expect the loan growth to continue to accelerate in the fourth quarter and our fee businesses remain on a good trajectory. Merchant acquiring revenue growth is gaining momentum and our other two payments businesses, retail card issuing and corporate payment services, are firing on all cylinders.\n",
      " I'd ask Terry to start, then I'll jump in.\n",
      " And John, Andy. As we look at next year, I would highlight a couple of things. As we've talked about, we've lapped the payments to the merchant revenue issue and you saw that that's growing 4%. We continue to expect that to accelerate as we go into next quarter and next year.\n",
      " Yes, it is.\n",
      " And John, importantly, we're not assuming that surcharge goes away as we think about positive operating leverage in 2019.\n",
      " Sure.\n",
      " Good morning.\n",
      " Hey Matt.\n",
      " Matt, this is Andy. We were talking about that, the 0.9% accelerating to a higher number on a linked-quarter basis.\n",
      " Thanks Matt.\n",
      " Hey Ken.\n",
      " And Terry our deposit beta assumptions have been consistent with what's happening.\n",
      " Thanks Ken.\n",
      " Good morning Erika.\n",
      " You start there second question.\n",
      " And then Erika on your question on private equity you're now in bank or non-bank competition, I would say that is evident in some of the wholesale categories. I think it's probably most prominent in our commercial real estate category where some of the pay downs that are occurring are because of non-bank competition coming into the marketplace. But as we said and as Terry said in his remarks that is starting to abate here as we come into the third and fourth quarter.\n",
      " And the fourth quarter, Terry, is actually higher than the third quarter. So, we'll see a little bit of an increase in that -- in the fourth quarter because of that.\n",
      " Third quarter to fourth quarter?\n",
      " And Erika maybe one thing that I would just kind of add to that. I think when you end up looking our business mix, so this is one of the things that we've talked about in the past, the business mix having the strong fee base sort of businesses and payments, et cetera and with consumer spend continuing to get stronger, I just see that as something that differentiates us as we think about the future.\n",
      " Morning Scott.\n",
      " Yes, so the corporate trust business is a great -- not only great fee business, but it's a great deposit gathering business. And as Terry mentioned, there's two components to it, one is operational nature and the flows that occur will continue to occur regardless of the rate environment because it is a flow between the bond issuer and the bond holder.\n",
      " Yes. So, I mean that sale is so impressed. Maybe I can just step back a little bit. That is very specific to third-party ATM processing and it's also the sale of our MoneyPass debit card network and so it's not related to our payments business. As I knew there was a little bit of confusion on that early, so I just want to make sure that actually--\n",
      " Yes. And the -- it would end up kind of dimensional, so 2017 revenue for that business on an annualized basis was $170 million. On a quarterly basis, third quarter, I believe the revenue was around $45 million and then the efficiency ratio of that business pretty similar to the rest of our company maybe a slightly higher, but pretty similar to the rest of our company. So, if you kind of take that information, you can get some sense, both in terms of fourth quarter and 2019.\n",
      " Thanks Scott.\n",
      " Morning Betsy.\n",
      " Well, one of the things we talked about is we are investing in both traditional as we talked about the expansion in our commercial banking business as well as more of the digital and payments businesses. We did an acquisition in the third quarter as we talked about we are continuing to expand our capabilities on our mobile application, our capabilities in terms of sales activity on that application. And everything you think about from an investment standpoint as a little bit of a digital focus on it. So that will continue.\n",
      " Yes, so the CapEx related to technology is about $1.2 billion. And as Terry and I have talked about in the past, our operating expense related that probably another $1.5 billion. So, if you combine the two, it's just over $2.5 billion, but the CapEx that we talked about is $1.2 billion.\n",
      " Thanks Betsy.\n",
      " Hey Mike.\n",
      " I can give it to you now. So, we have 18 million total customers. If I exclude single service customers, so some of our mortgage customers, card customers, and indirect customers who outside our market -- what they would call full banking customers were about 11 million and of 11 million about 50% use our digital platform.\n",
      " The majority of that is mobile.\n",
      " Yes, I want to be real clear on one thing it's not taking any more risk. Our credit box has not changed at all and we've been very prudent and strict around and disciplined for a long time and that is not changing at all.\n",
      " Yes, we've opened up a few offices in the south, the Dallas area and the south -- and the southeast New York. We'll look at other opportunities like this and it's typically leveraging presence that we already have in the market. And we talked about that also thinking about our consumer expansion doing the same, building a customer base that we already have.\n",
      " Thanks Mike.\n",
      " And we've been managing to optimize it all along, right?\n",
      " Thanks Marty.\n",
      " Good morning Kevin,\n",
      " Hey Vivek.\n",
      " Yes, yes we can hear you. Thank you. Good morning.\n",
      " Good morning Saul.\n",
      " I'm hopeful Saul, as I think about our balance sheet, our business mix, our risk profile, our trading book which is you know minimal, all those characteristics are more like a smaller regional bank or medium-sized regional bank there like the large money center banks. So, as you know 2155 [ph] talks about the tailoring shall occur and if you think about tailoring based on risk characteristics, I'm hopeful that we'll get some relief.\n",
      " Good morning Gerard.\n",
      " Yes Gerard, I don't think our mix is all that different. I do think in those time periods, we were in the midst of acquiring corporate trust businesses that they have impacted the activity in the deposits because we were growing -- we've done 22 acquisitions in corporate trust over the years, many of them in the years that you describe. So, that may be a factor in the comps.\n",
      " We have. We completed our activity and our verification from an internal standpoint on June 30th consistent with our schedule. It now sits with the regulators and we're hopeful.\n",
      " Yes, the duration is about four years.\n",
      " Good morning Brian.\n",
      " Thanks Brian.\n",
      "\n"
     ]
    }
   ],
   "source": [
    "# Get and store the answers of the executives in the executivesDictionary\n",
    "\n",
    "# elem,next_elem in zip(li, li[1:]+[li[0]]):\n",
    "for item,next_item in zip(q_and_a, q_and_a[1:]+[q_and_a[0]]):\n",
    "#     print(item)\n",
    "    if item.strip() in executiveDict.keys():\n",
    "        val = executiveDict[item.strip()]\n",
    "        executiveDict[item.strip()] = val + ' ' + next_item\n",
    "#         print(item, next_item)\n",
    "        \n",
    "print(executiveDict['Andrew Cecere'])"
   ]
  },
  {
   "cell_type": "code",
   "execution_count": 10,
   "metadata": {},
   "outputs": [
    {
     "name": "stdout",
     "output_type": "stream",
     "text": [
      "dict_keys(['John McDonald', 'John Pancari', \"Matthew O'Connor\", 'Kenneth Usdin', 'Erika Najarian', 'Scott Siefers', 'Betsy Graseck', 'Mike Mayo', 'Marty Mosby', 'Kevin Barker', 'Vivek Juneja', 'Saul Martinez', 'Gerard Cassidy', 'Brian Klock'])\n",
      "Sanford C. Bernstein & Co., LLC Hi good morning guys. Wanted to ask a little bit about the positive operating leverage, you had a nice print on positive operating leverage this quarter, looks like about 80 basis points. Just wondering how much help you got on the expense line this quarter from some of the accrual reversals and any other one-timers that you mentioned?\n",
      " Okay. And Andy just a quick follow-up. Is the 1% to 1.5% still kind of a good target as you sit here now and look out to 2019 for the operating leverage that you're going to shoot for?\n",
      " Okay. And then one quick follow-up Terry. The FDI insurance fees lower that you mentioned, what was the driver of that? And you still have a stepdown coming from the end of the surcharge later in the fourth quarter next year?\n",
      " Great. Thanks guys.\n",
      " Hi good morning guys. Wanted to ask a little bit about the positive operating leverage, you had a nice print on positive operating leverage this quarter, looks like about 80 basis points. Just wondering how much help you got on the expense line this quarter from some of the accrual reversals and any other one-timers that you mentioned?\n",
      " Okay. And Andy just a quick follow-up. Is the 1% to 1.5% still kind of a good target as you sit here now and look out to 2019 for the operating leverage that you're going to shoot for?\n",
      " Okay. And then one quick follow-up Terry. The FDI insurance fees lower that you mentioned, what was the driver of that? And you still have a stepdown coming from the end of the surcharge later in the fourth quarter next year?\n",
      " Great. Thanks guys.\n",
      " Hi good morning guys. Wanted to ask a little bit about the positive operating leverage, you had a nice print on positive operating leverage this quarter, looks like about 80 basis points. Just wondering how much help you got on the expense line this quarter from some of the accrual reversals and any other one-timers that you mentioned?\n",
      " Okay. And Andy just a quick follow-up. Is the 1% to 1.5% still kind of a good target as you sit here now and look out to 2019 for the operating leverage that you're going to shoot for?\n",
      " Okay. And then one quick follow-up Terry. The FDI insurance fees lower that you mentioned, what was the driver of that? And you still have a stepdown coming from the end of the surcharge later in the fourth quarter next year?\n",
      " Great. Thanks guys.\n",
      " Hi good morning guys. Wanted to ask a little bit about the positive operating leverage, you had a nice print on positive operating leverage this quarter, looks like about 80 basis points. Just wondering how much help you got on the expense line this quarter from some of the accrual reversals and any other one-timers that you mentioned?\n",
      " Okay. And Andy just a quick follow-up. Is the 1% to 1.5% still kind of a good target as you sit here now and look out to 2019 for the operating leverage that you're going to shoot for?\n",
      " Okay. And then one quick follow-up Terry. The FDI insurance fees lower that you mentioned, what was the driver of that? And you still have a stepdown coming from the end of the surcharge later in the fourth quarter next year?\n",
      " Great. Thanks guys.\n",
      "\n"
     ]
    }
   ],
   "source": [
    "# Get and store the answers of the analysts in the analystsDictionary\n",
    "\n",
    "# elem,next_elem in zip(li, li[1:]+[li[0]]):\n",
    "for item,next_item in zip(q_and_a, q_and_a[1:]+[q_and_a[0]]):\n",
    "#     print(item)\n",
    "    if item.strip() in analystsDict.keys():\n",
    "        val = analystsDict[item.strip()]\n",
    "        analystsDict[item.strip()] = val + ' ' + next_item\n",
    "#         print(item, next_item)\n",
    "        \n",
    "print(analystsDict.keys())\n",
    "print(analystsDict['John McDonald'])"
   ]
  },
  {
   "cell_type": "code",
   "execution_count": 13,
   "metadata": {},
   "outputs": [
    {
     "data": {
      "image/png": "[encoded data removed]",
      "text/plain": [
       "<PIL.Image.Image image mode=RGB size=400x200 at 0x105BE3710>"
      ]
     },
     "execution_count": 13,
     "metadata": {},
     "output_type": "execute_result"
    }
   ],
   "source": [
    "import wordcloud\n",
    "wordcloud = wordcloud.WordCloud() # Create a wordcloud object\n",
    "wordcloud.generate(executiveDict['Andrew Cecere'])   # Generate a wordcloud\n",
    "wordcloud.to_image()              # Visualize the word cloud"
   ]
  },
  {
   "cell_type": "code",
   "execution_count": 12,
   "metadata": {},
   "outputs": [],
   "source": [
    "import os\n",
    "file_list = os.listdir(\"../Call_Transcripts_Seeking_Alpha/\")\n"
   ]
  },
  {
   "cell_type": "code",
   "execution_count": 16,
   "metadata": {},
   "outputs": [],
   "source": [
    "import nltk\n",
    "from nltk.stem import PorterStemmer\n",
    "from nltk.stem import LancasterStemmer"
   ]
  },
  {
   "cell_type": "code",
   "execution_count": 17,
   "metadata": {},
   "outputs": [],
   "source": [
    "#create an object of class PorterStemmer\n",
    "porter = PorterStemmer()\n",
    "lancaster=LancasterStemmer()"
   ]
  },
  {
   "cell_type": "code",
   "execution_count": 20,
   "metadata": {},
   "outputs": [],
   "source": [
    "from nltk.tokenize import sent_tokenize, word_tokenize\n",
    "\n",
    "def stemSentence(sentence):\n",
    "    token_words=word_tokenize(sentence)\n",
    "    token_words\n",
    "    stem_sentence=[]\n",
    "    for word in token_words:\n",
    "        stem_sentence.append(porter.stem(word))\n",
    "        stem_sentence.append(\" \")\n",
    "    return \"\".join(stem_sentence)\n",
    "\n"
   ]
  },
  {
   "cell_type": "code",
   "execution_count": 22,
   "metadata": {},
   "outputs": [
    {
     "name": "stdout",
     "output_type": "stream",
     "text": [
      "227042\n"
     ]
    }
   ],
   "source": [
    "x=stemSentence(text)\n",
    "print(len(x))"
   ]
  },
  {
   "cell_type": "code",
   "execution_count": 24,
   "metadata": {},
   "outputs": [],
   "source": [
    "from pycorenlp import StanfordCoreNLP\n"
   ]
  },
  {
   "cell_type": "code",
   "execution_count": 27,
   "metadata": {},
   "outputs": [
    {
     "ename": "OSError",
     "evalue": "/Users/name/stanford-corenlp-full-2018-10-05 is not a directory.",
     "output_type": "error",
     "traceback": [
      "\u001b[1;31m---------------------------------------------------------------------------\u001b[0m",
      "\u001b[1;31mOSError\u001b[0m                                   Traceback (most recent call last)",
      "\u001b[1;32m<ipython-input-27-ae178482267b>\u001b[0m in \u001b[0;36m<module>\u001b[1;34m()\u001b[0m\n\u001b[0;32m      1\u001b[0m \u001b[1;32mfrom\u001b[0m \u001b[0mstanfordcorenlp\u001b[0m \u001b[1;32mimport\u001b[0m \u001b[0mStanfordCoreNLP\u001b[0m\u001b[1;33m\u001b[0m\u001b[0m\n\u001b[0;32m      2\u001b[0m \u001b[1;33m\u001b[0m\u001b[0m\n\u001b[1;32m----> 3\u001b[1;33m \u001b[0mnlp\u001b[0m \u001b[1;33m=\u001b[0m \u001b[0mStanfordCoreNLP\u001b[0m\u001b[1;33m(\u001b[0m\u001b[1;34m'/Users/name/stanford-corenlp-full-2018-10-05'\u001b[0m\u001b[1;33m)\u001b[0m\u001b[1;33m\u001b[0m\u001b[0m\n\u001b[0m\u001b[0;32m      4\u001b[0m \u001b[1;33m\u001b[0m\u001b[0m\n\u001b[0;32m      5\u001b[0m \u001b[0msentence\u001b[0m \u001b[1;33m=\u001b[0m \u001b[1;34m'Guangdong University of Foreign Studies is located in Guangzhou.'\u001b[0m\u001b[1;33m\u001b[0m\u001b[0m\n",
      "\u001b[1;32mC:\\Anaconda3\\lib\\site-packages\\stanfordcorenlp\\corenlp.py\u001b[0m in \u001b[0;36m__init__\u001b[1;34m(self, path_or_host, port, memory, lang, timeout, quiet, logging_level)\u001b[0m\n\u001b[0;32m     49\u001b[0m             \u001b[1;31m# Check if the dir exists\u001b[0m\u001b[1;33m\u001b[0m\u001b[1;33m\u001b[0m\u001b[0m\n\u001b[0;32m     50\u001b[0m             \u001b[1;32mif\u001b[0m \u001b[1;32mnot\u001b[0m \u001b[0mos\u001b[0m\u001b[1;33m.\u001b[0m\u001b[0mpath\u001b[0m\u001b[1;33m.\u001b[0m\u001b[0misdir\u001b[0m\u001b[1;33m(\u001b[0m\u001b[0mself\u001b[0m\u001b[1;33m.\u001b[0m\u001b[0mpath_or_host\u001b[0m\u001b[1;33m)\u001b[0m\u001b[1;33m:\u001b[0m\u001b[1;33m\u001b[0m\u001b[0m\n\u001b[1;32m---> 51\u001b[1;33m                 \u001b[1;32mraise\u001b[0m \u001b[0mIOError\u001b[0m\u001b[1;33m(\u001b[0m\u001b[0mstr\u001b[0m\u001b[1;33m(\u001b[0m\u001b[0mself\u001b[0m\u001b[1;33m.\u001b[0m\u001b[0mpath_or_host\u001b[0m\u001b[1;33m)\u001b[0m \u001b[1;33m+\u001b[0m \u001b[1;34m' is not a directory.'\u001b[0m\u001b[1;33m)\u001b[0m\u001b[1;33m\u001b[0m\u001b[0m\n\u001b[0m\u001b[0;32m     52\u001b[0m             \u001b[0mdirectory\u001b[0m \u001b[1;33m=\u001b[0m \u001b[0mos\u001b[0m\u001b[1;33m.\u001b[0m\u001b[0mpath\u001b[0m\u001b[1;33m.\u001b[0m\u001b[0mnormpath\u001b[0m\u001b[1;33m(\u001b[0m\u001b[0mself\u001b[0m\u001b[1;33m.\u001b[0m\u001b[0mpath_or_host\u001b[0m\u001b[1;33m)\u001b[0m \u001b[1;33m+\u001b[0m \u001b[0mos\u001b[0m\u001b[1;33m.\u001b[0m\u001b[0msep\u001b[0m\u001b[1;33m\u001b[0m\u001b[0m\n\u001b[0;32m     53\u001b[0m             \u001b[0mself\u001b[0m\u001b[1;33m.\u001b[0m\u001b[0mclass_path_dir\u001b[0m \u001b[1;33m=\u001b[0m \u001b[0mdirectory\u001b[0m\u001b[1;33m\u001b[0m\u001b[0m\n",
      "\u001b[1;31mOSError\u001b[0m: /Users/name/stanford-corenlp-full-2018-10-05 is not a directory."
     ]
    }
   ],
   "source": [
    "from stanfordcorenlp import StanfordCoreNLP\n",
    "\n",
    "nlp = StanfordCoreNLP('/Users/name/stanford-corenlp-full-2018-10-05')\n",
    "\n",
    "sentence = 'Guangdong University of Foreign Studies is located in Guangzhou.'\n",
    "print('Tokenize:', nlp.word_tokenize(sentence))\n",
    "print('Part of Speech:', nlp.pos_tag(sentence))\n",
    "print('Named Entities:', nlp.ner(sentence))\n",
    "print('Constituency Parsing:', nlp.parse(sentence))\n",
    "print('Dependency Parsing:', nlp.dependency_parse(sentence))\n",
    "\n",
    "nlp.close() # Do not forget to close! The backend server will consume a lot memory."
   ]
  },
  {
   "cell_type": "code",
   "execution_count": 14,
   "metadata": {},
   "outputs": [],
   "source": [
    "# Pre processing"
   ]
  },
  {
   "cell_type": "code",
   "execution_count": 15,
   "metadata": {},
   "outputs": [],
   "source": [
    "# Coverting text to lowercase"
   ]
  },
  {
   "cell_type": "code",
   "execution_count": 25,
   "metadata": {},
   "outputs": [],
   "source": [
    "executiveDict['Andrew Cecere'] = executiveDict['Andrew Cecere'].lower()\n",
    "print(executiveDict['Andrew Cecere'])"
   ]
  },
  {
   "cell_type": "code",
   "execution_count": 18,
   "metadata": {},
   "outputs": [],
   "source": [
    "# Remove numbers"
   ]
  },
  {
   "cell_type": "code",
   "execution_count": 27,
   "metadata": {},
   "outputs": [],
   "source": [
    "data = executiveDict['Andrew Cecere'] \n",
    "#print(data)"
   ]
  },
  {
   "cell_type": "code",
   "execution_count": 29,
   "metadata": {},
   "outputs": [],
   "source": [
    "# split into sentences"
   ]
  },
  {
   "cell_type": "code",
   "execution_count": 28,
   "metadata": {},
   "outputs": [
    {
     "name": "stdout",
     "output_type": "stream",
     "text": [
      "chairman, president and ceo i'd ask terry to start, then i'll jump in.\n"
     ]
    }
   ],
   "source": [
    "from nltk import sent_tokenize\n",
    "sentences = sent_tokenize(data)\n",
    "print(sentences[0])"
   ]
  },
  {
   "cell_type": "code",
   "execution_count": 30,
   "metadata": {},
   "outputs": [],
   "source": [
    "# split into words"
   ]
  },
  {
   "cell_type": "code",
   "execution_count": 31,
   "metadata": {},
   "outputs": [
    {
     "name": "stdout",
     "output_type": "stream",
     "text": [
      "['chairman', ',', 'president', 'and', 'ceo', 'i', \"'d\", 'ask', 'terry', 'to', 'start', ',', 'then', 'i', \"'ll\", 'jump', 'in', '.', 'and', 'john', ',', 'andy', '.', 'as', 'we', 'look', 'at', 'next', 'year', ',', 'i', 'would', 'highlight', 'a', 'couple', 'of', 'things', '.', 'as', 'we', \"'ve\", 'talked', 'about', ',', 'we', \"'ve\", 'lapped', 'the', 'payments', 'to', 'the', 'merchant', 'revenue', 'issue', 'and', 'you', 'saw', 'that', 'that', \"'s\", 'growing', '4', '%', '.', 'we', 'continue', 'to', 'expect', 'that', 'to', 'accelerate', 'as', 'we', 'go', 'into', 'next', 'quarter', 'and', 'next', 'year', '.', 'yes', ',', 'it', 'is', '.', 'and', 'john', ',', 'importantly', ',', 'we', \"'re\", 'not', 'assuming', 'that', 'surcharge', 'goes', 'away', 'as']\n"
     ]
    }
   ],
   "source": [
    "from nltk.tokenize import word_tokenize\n",
    "tokens = word_tokenize(data)\n",
    "print(tokens[:100])"
   ]
  },
  {
   "cell_type": "code",
   "execution_count": 42,
   "metadata": {},
   "outputs": [
    {
     "name": "stdout",
     "output_type": "stream",
     "text": [
      "['chairman', '', 'president', 'and', 'ceo', 'i', 'd', 'ask', 'terry', 'to', 'start', '', 'then', 'i', 'll', 'jump', 'in', '', 'and', 'john', '', 'andy', '', 'as', 'we', 'look', 'at', 'next', 'year', '', 'i', 'would', 'highlight', 'a', 'couple', 'of', 'things', '', 'as', 'we', 've', 'talked', 'about', '', 'we', 've', 'lapped', 'the', 'payments', 'to', 'the', 'merchant', 'revenue', 'issue', 'and', 'you', 'saw', 'that', 'that', 's', 'growing', '4', '', '', 'we', 'continue', 'to', 'expect', 'that', 'to', 'accelerate', 'as', 'we', 'go', 'into', 'next', 'quarter', 'and', 'next', 'year', '', 'yes', '', 'it', 'is', '', 'and', 'john', '', 'importantly', '', 'we', 're', 'not', 'assuming', 'that', 'surcharge', 'goes', 'away', 'as']\n"
     ]
    }
   ],
   "source": [
    "import string\n",
    "table = str.maketrans('', '', string.punctuation)\n",
    "stripped = [w.translate(table) for w in tokens]\n",
    "print(stripped[:100])"
   ]
  },
  {
   "cell_type": "code",
   "execution_count": 32,
   "metadata": {},
   "outputs": [],
   "source": [
    "# remove all tokens that are not alphabetic"
   ]
  },
  {
   "cell_type": "code",
   "execution_count": 43,
   "metadata": {},
   "outputs": [
    {
     "name": "stdout",
     "output_type": "stream",
     "text": [
      "['chairman', 'president', 'and', 'ceo', 'i', 'd', 'ask', 'terry', 'to', 'start', 'then', 'i', 'll', 'jump', 'in', 'and', 'john', 'andy', 'as', 'we', 'look', 'at', 'next', 'year', 'i', 'would', 'highlight', 'a', 'couple', 'of', 'things', 'as', 'we', 've', 'talked', 'about', 'we', 've', 'lapped', 'the', 'payments', 'to', 'the', 'merchant', 'revenue', 'issue', 'and', 'you', 'saw', 'that', 'that', 's', 'growing', 'we', 'continue', 'to', 'expect', 'that', 'to', 'accelerate', 'as', 'we', 'go', 'into', 'next', 'quarter', 'and', 'next', 'year', 'yes', 'it', 'is', 'and', 'john', 'importantly', 'we', 're', 'not', 'assuming', 'that', 'surcharge', 'goes', 'away', 'as', 'we', 'think', 'about', 'positive', 'operating', 'leverage', 'in', 'sure', 'good', 'morning', 'hey', 'matt', 'matt', 'this', 'is', 'andy']\n"
     ]
    }
   ],
   "source": [
    "words = [word for word in stripped if word.isalpha()]\n",
    "print(words[:100])"
   ]
  },
  {
   "cell_type": "code",
   "execution_count": 34,
   "metadata": {},
   "outputs": [],
   "source": [
    "#filter out stop words"
   ]
  },
  {
   "cell_type": "code",
   "execution_count": 44,
   "metadata": {},
   "outputs": [
    {
     "name": "stdout",
     "output_type": "stream",
     "text": [
      "['chairman', 'president', 'ceo', 'ask', 'terry', 'start', 'jump', 'john', 'andy', 'look', 'next', 'year', 'would', 'highlight', 'couple', 'things', 'talked', 'lapped', 'payments', 'merchant', 'revenue', 'issue', 'saw', 'growing', 'continue', 'expect', 'accelerate', 'go', 'next', 'quarter', 'next', 'year', 'yes', 'john', 'importantly', 'assuming', 'surcharge', 'goes', 'away', 'think', 'positive', 'operating', 'leverage', 'sure', 'good', 'morning', 'hey', 'matt', 'matt', 'andy', 'talking', 'accelerating', 'higher', 'number', 'linkedquarter', 'basis', 'thanks', 'matt', 'hey', 'ken', 'terry', 'deposit', 'beta', 'assumptions', 'consistent', 'happening', 'thanks', 'ken', 'good', 'morning', 'erika', 'start', 'second', 'question', 'erika', 'question', 'private', 'equity', 'bank', 'nonbank', 'competition', 'would', 'say', 'evident', 'wholesale', 'categories', 'think', 'probably', 'prominent', 'commercial', 'real', 'estate', 'category', 'pay', 'downs', 'occurring', 'nonbank', 'competition', 'coming', 'marketplace']\n"
     ]
    }
   ],
   "source": [
    "from nltk.corpus import stopwords\n",
    "stop_words = set(stopwords.words('english'))\n",
    "words = [w for w in words if not w in stop_words]\n",
    "print(words[:100])"
   ]
  },
  {
   "cell_type": "code",
   "execution_count": 38,
   "metadata": {},
   "outputs": [],
   "source": [
    "#stemming the words"
   ]
  },
  {
   "cell_type": "code",
   "execution_count": 45,
   "metadata": {},
   "outputs": [
    {
     "name": "stdout",
     "output_type": "stream",
     "text": [
      "['chairman', 'presid', 'ceo', 'ask', 'terri', 'start', 'jump', 'john', 'andi', 'look', 'next', 'year', 'would', 'highlight', 'coupl', 'thing', 'talk', 'lap', 'payment', 'merchant', 'revenu', 'issu', 'saw', 'grow', 'continu', 'expect', 'acceler', 'go', 'next', 'quarter', 'next', 'year', 'ye', 'john', 'importantli', 'assum', 'surcharg', 'goe', 'away', 'think', 'posit', 'oper', 'leverag', 'sure', 'good', 'morn', 'hey', 'matt', 'matt', 'andi', 'talk', 'acceler', 'higher', 'number', 'linkedquart', 'basi', 'thank', 'matt', 'hey', 'ken', 'terri', 'deposit', 'beta', 'assumpt', 'consist', 'happen', 'thank', 'ken', 'good', 'morn', 'erika', 'start', 'second', 'question', 'erika', 'question', 'privat', 'equiti', 'bank', 'nonbank', 'competit', 'would', 'say', 'evid', 'wholesal', 'categori', 'think', 'probabl', 'promin', 'commerci', 'real', 'estat', 'categori', 'pay', 'down', 'occur', 'nonbank', 'competit', 'come', 'marketplac']\n"
     ]
    }
   ],
   "source": [
    "from nltk.stem.porter import PorterStemmer\n",
    "porter = PorterStemmer()\n",
    "stemmed = [porter.stem(word) for word in words]\n",
    "print(stemmed[:100])"
   ]
  },
  {
   "cell_type": "code",
   "execution_count": null,
   "metadata": {},
   "outputs": [],
   "source": []
  }
 ],
 "metadata": {
  "kernelspec": {
   "display_name": "Python 3",
   "language": "python",
   "name": "python3"
  },
  "language_info": {
   "codemirror_mode": {
    "name": "ipython",
    "version": 3
   },
   "file_extension": ".py",
   "mimetype": "text/x-python",
   "name": "python",
   "nbconvert_exporter": "python",
   "pygments_lexer": "ipython3",
   "version": "3.6.4"
  }
 },
 "nbformat": 4,
 "nbformat_minor": 2
}
