{
 "cells": [
  {
   "cell_type": "code",
   "execution_count": 2,
   "metadata": {},
   "outputs": [],
   "source": [
    "import pandas as pd"
   ]
  },
  {
   "cell_type": "code",
   "execution_count": 9,
   "metadata": {},
   "outputs": [],
   "source": [
    "# Read the TSV file\n",
    "edgar_directories = pd.read_csv('../EDGAR_Downloads/2018-QTR1.tsv', sep='|', header=None)"
   ]
  },
  {
   "cell_type": "code",
   "execution_count": 16,
   "metadata": {},
   "outputs": [
    {
     "name": "stdout",
     "output_type": "stream",
     "text": [
      "304798\n"
     ]
    }
   ],
   "source": [
    "edgar_directories.head(20)\n",
    "\n",
    "print(len(edgar_directories))"
   ]
  },
  {
   "cell_type": "code",
   "execution_count": 17,
   "metadata": {},
   "outputs": [],
   "source": [
    "# All filing types - unique\n",
    "pd.DataFrame(edgar_directories[2].unique())\n",
    "\n",
    "# Get only 10-K and 10-Q\n",
    "edgar_10q = edgar_directories[edgar_directories[2]=='10-Q']\n",
    "edgar_10k = edgar_directories[edgar_directories[2]=='10-K']"
   ]
  },
  {
   "cell_type": "code",
   "execution_count": 15,
   "metadata": {},
   "outputs": [
    {
     "data": {
      "text/plain": [
       "4868"
      ]
     },
     "execution_count": 15,
     "metadata": {},
     "output_type": "execute_result"
    }
   ],
   "source": [
    "len(edgar_10k)"
   ]
  },
  {
   "cell_type": "code",
   "execution_count": 18,
   "metadata": {},
   "outputs": [
    {
     "data": {
      "text/html": [
       "<div>\n",
       "<style scoped>\n",
       "    .dataframe tbody tr th:only-of-type {\n",
       "        vertical-align: middle;\n",
       "    }\n",
       "\n",
       "    .dataframe tbody tr th {\n",
       "        vertical-align: top;\n",
       "    }\n",
       "\n",
       "    .dataframe thead th {\n",
       "        text-align: right;\n",
       "    }\n",
       "</style>\n",
       "<table border=\"1\" class=\"dataframe\">\n",
       "  <thead>\n",
       "    <tr style=\"text-align: right;\">\n",
       "      <th></th>\n",
       "      <th>0</th>\n",
       "      <th>1</th>\n",
       "      <th>2</th>\n",
       "      <th>3</th>\n",
       "      <th>4</th>\n",
       "      <th>5</th>\n",
       "    </tr>\n",
       "  </thead>\n",
       "  <tbody>\n",
       "    <tr>\n",
       "      <th>1</th>\n",
       "      <td>1000045</td>\n",
       "      <td>NICHOLAS FINANCIAL INC</td>\n",
       "      <td>10-Q</td>\n",
       "      <td>2018-02-09</td>\n",
       "      <td>edgar/data/1000045/0001193125-18-037381.txt</td>\n",
       "      <td>edgar/data/1000045/0001193125-18-037381-index....</td>\n",
       "    </tr>\n",
       "    <tr>\n",
       "      <th>171</th>\n",
       "      <td>1000230</td>\n",
       "      <td>OPTICAL CABLE CORP</td>\n",
       "      <td>10-Q</td>\n",
       "      <td>2018-03-13</td>\n",
       "      <td>edgar/data/1000230/0001437749-18-004449.txt</td>\n",
       "      <td>edgar/data/1000230/0001437749-18-004449-index....</td>\n",
       "    </tr>\n",
       "    <tr>\n",
       "      <th>777</th>\n",
       "      <td>1001039</td>\n",
       "      <td>WALT DISNEY CO/</td>\n",
       "      <td>10-Q</td>\n",
       "      <td>2018-02-06</td>\n",
       "      <td>edgar/data/1001039/0001628280-18-001147.txt</td>\n",
       "      <td>edgar/data/1001039/0001628280-18-001147-index....</td>\n",
       "    </tr>\n",
       "    <tr>\n",
       "      <th>867</th>\n",
       "      <td>1001115</td>\n",
       "      <td>GEOSPACE TECHNOLOGIES CORP</td>\n",
       "      <td>10-Q</td>\n",
       "      <td>2018-02-07</td>\n",
       "      <td>edgar/data/1001115/0001564590-18-001474.txt</td>\n",
       "      <td>edgar/data/1001115/0001564590-18-001474-index....</td>\n",
       "    </tr>\n",
       "    <tr>\n",
       "      <th>925</th>\n",
       "      <td>1001250</td>\n",
       "      <td>ESTEE LAUDER COMPANIES INC</td>\n",
       "      <td>10-Q</td>\n",
       "      <td>2018-02-02</td>\n",
       "      <td>edgar/data/1001250/0001104659-18-006059.txt</td>\n",
       "      <td>edgar/data/1001250/0001104659-18-006059-index....</td>\n",
       "    </tr>\n",
       "  </tbody>\n",
       "</table>\n",
       "</div>"
      ],
      "text/plain": [
       "           0                           1     2           3  \\\n",
       "1    1000045      NICHOLAS FINANCIAL INC  10-Q  2018-02-09   \n",
       "171  1000230          OPTICAL CABLE CORP  10-Q  2018-03-13   \n",
       "777  1001039             WALT DISNEY CO/  10-Q  2018-02-06   \n",
       "867  1001115  GEOSPACE TECHNOLOGIES CORP  10-Q  2018-02-07   \n",
       "925  1001250  ESTEE LAUDER COMPANIES INC  10-Q  2018-02-02   \n",
       "\n",
       "                                               4  \\\n",
       "1    edgar/data/1000045/0001193125-18-037381.txt   \n",
       "171  edgar/data/1000230/0001437749-18-004449.txt   \n",
       "777  edgar/data/1001039/0001628280-18-001147.txt   \n",
       "867  edgar/data/1001115/0001564590-18-001474.txt   \n",
       "925  edgar/data/1001250/0001104659-18-006059.txt   \n",
       "\n",
       "                                                     5  \n",
       "1    edgar/data/1000045/0001193125-18-037381-index....  \n",
       "171  edgar/data/1000230/0001437749-18-004449-index....  \n",
       "777  edgar/data/1001039/0001628280-18-001147-index....  \n",
       "867  edgar/data/1001115/0001564590-18-001474-index....  \n",
       "925  edgar/data/1001250/0001104659-18-006059-index....  "
      ]
     },
     "execution_count": 18,
     "metadata": {},
     "output_type": "execute_result"
    }
   ],
   "source": [
    "edgar_10q.head()"
   ]
  },
  {
   "cell_type": "code",
   "execution_count": 20,
   "metadata": {},
   "outputs": [],
   "source": [
    "edgar_10k.to_csv('EDGAR_10K.csv')"
   ]
  },
  {
   "cell_type": "code",
   "execution_count": 21,
   "metadata": {},
   "outputs": [],
   "source": [
    "edgar_10q.to_csv('EDGAR_10Q.csv')"
   ]
  },
  {
   "cell_type": "code",
   "execution_count": null,
   "metadata": {},
   "outputs": [],
   "source": []
  }
 ],
 "metadata": {
  "kernelspec": {
   "display_name": "Python 3",
   "language": "python",
   "name": "python3"
  },
  "language_info": {
   "codemirror_mode": {
    "name": "ipython",
    "version": 3
   },
   "file_extension": ".py",
   "mimetype": "text/x-python",
   "name": "python",
   "nbconvert_exporter": "python",
   "pygments_lexer": "ipython3",
   "version": "3.7.0"
  }
 },
 "nbformat": 4,
 "nbformat_minor": 2
}
