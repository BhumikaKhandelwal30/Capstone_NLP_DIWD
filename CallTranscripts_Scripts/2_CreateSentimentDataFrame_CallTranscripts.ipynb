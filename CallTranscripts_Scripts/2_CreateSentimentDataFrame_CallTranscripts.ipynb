{
 "cells": [
  {
   "cell_type": "code",
   "execution_count": 14,
   "metadata": {},
   "outputs": [
    {
     "name": "stdout",
     "output_type": "stream",
     "text": [
      "TEXT IS NOT BEING PRE PROCESSED\n",
      "type(text) == <class 'str'> ; Size Text: 22\n"
     ]
    }
   ],
   "source": [
    "%run SentimentAnalysis_CallTranscripts.ipynb"
   ]
  },
  {
   "cell_type": "code",
   "execution_count": 3,
   "metadata": {},
   "outputs": [],
   "source": [
    "import pandas as pd\n",
    "x = pd.read_csv('output.csv')"
   ]
  },
  {
   "cell_type": "code",
   "execution_count": 4,
   "metadata": {},
   "outputs": [
    {
     "name": "stdout",
     "output_type": "stream",
     "text": [
      "The results with negation check:\n",
      "\n",
      "The # of positive words: 174\n",
      "The # of negative words: 60\n",
      "The list of found positive words: ['good', 'innovation', 'benefit', 'strength', 'strong', 'gains', 'greater', 'gains', 'effective', 'strong', 'favorable', 'leading', 'proactive', 'collaboration', 'benefit', 'gains', 'strengthening', 'enhanced', 'pleased', 'strength', 'improve', 'profitability', 'strength', 'achievement', 'opportunities', 'great', 'exciting', 'great', 'strengths', 'opportunity', 'advances', 'best', 'great', 'excited', 'best', 'best', 'better', 'good', 'great', 'incredibly', 'best', 'gain', 'strengths', 'easily', 'improvements', 'exciting', 'great', 'strengths', 'better', 'improve', 'opportunities', 'great', 'popular', 'able', 'positive', 'improving', 'strengths', 'effective', 'best', 'breakthrough', 'great', 'advances', 'best', 'popular', 'benefiting', 'improve', 'strong', 'great', 'easily', 'great', 'strong', 'positive', 'exciting', 'incredible', 'opportunities', 'excited', 'great', 'opportunities', 'opportunity', 'opportunities', 'excited', 'good', 'advantage', 'good', 'leadership', 'able', 'leadership', 'excellence', 'great', 'proactively', 'delightful', 'great', 'opportunity', 'good', 'great', 'success', 'best', 'great', 'opportunity', 'best', 'good', 'strength', 'opportunities', 'better', 'opportunities', 'opportunities', 'opportunity', 'opportunities', 'improved', 'better', 'great', 'opportunity', 'pleased', 'opportunity', 'opportunity', 'opportunity', 'able', 'advances', 'progress', 'better', 'smooth', 'popular', 'opportunity', 'opportunities', 'excited', 'opportunity', 'opportunities', 'opportunity', 'efficiency', 'great', 'improving', 'good', 'strength', 'good', 'strength', 'great', 'opportunity', 'opportunity', 'great', 'success', 'opportunity', 'progressing', 'able', 'progress', 'leading', 'best', 'benefiting', 'proactive', 'good', 'win', 'strong', 'opportunity', 'strong', 'strong', 'better', 'able', 'better', 'despite', 'strong', 'accomplish', 'good', 'good', 'smooth', 'opportunity', 'positive', 'strong', 'best', 'strong', 'opportunity', 'opportunity', 'opportunities', 'opportunities', 'confident', 'great']\n",
      "The list of found negative words: ['undue', 'questions', 'negative', 'weakening', 'volatility', 'decline', 'loss', 'slow', 'against', 'questions', 'miss', 'perfect (with negation)', 'bad', 'problem', 'fatalities', 'tampered', 'questions', 'question', 'question', 'question', 'question', 'questions', 'late', 'question', 'question', 'question', 'question', 'questions', 'questions', 'question', 'question', 'questions', 'question', 'deliberate', 'question', 'questions', 'underestimate', 'question', 'question', 'questions', 'difficult', 'breakdown', 'question', 'questions', 'question', 'question', 'question', 'question', 'question', 'seriously', 'question', 'negative', 'worse', 'drag', 'question', 'question', 'question', 'investigate', 'question', 'closing']\n",
      "\n",
      "The results with negation check:\n",
      "\n",
      "The # of positive words: 181\n",
      "The # of negative words: 90\n",
      "The list of found positive words: ['good', 'best', 'good', 'positive', 'win', 'strengthening', 'improve', 'enhance', 'improve', 'bolstering', 'better', 'strengthened', 'strengths', 'impressive', 'good', 'good', 'better', 'strong', 'easier', 'progress', 'good', 'improvements', 'strong', 'gains', 'profitable', 'best', 'strength', 'stable', 'smoothly', 'progress', 'strengthening', 'optimistic', 'progress', 'improvement', 'enhance', 'improve', 'better', 'easy', 'progress', 'profitability', 'proactively', 'great', 'strong', 'strength', 'improved', 'successful', 'good', 'win', 'strength', 'strong', 'improvement', 'improvement', 'gains', 'improving', 'achieve', 'desired', 'improvements', 'transparency', 'improved', 'strengthening', 'strong', 'stronger', 'excited', 'improving', 'strong', 'good', 'great', 'exceptional', 'good', 'good', 'good', 'best', 'stabilize', 'good', 'good', 'good', 'opportunity', 'better', 'encouraged', 'opportunity', 'win', 'win', 'excited', 'good', 'improvements', 'progress', 'good', 'good', 'good', 'easy', 'best', 'excited', 'strong', 'impressive', 'better', 'pleased', 'able', 'better', 'better', 'good', 'good', 'strong', 'strength', 'strong', 'better', 'good', 'good', 'opportunity', 'improve', 'good', 'better', 'better', 'able', 'transparency', 'opportunity', 'improvements', 'better', 'good', 'good', 'good', 'good', 'achieving', 'desired', 'good', 'good', 'progressing', 'win', 'best', 'good', 'good', 'better', 'impressed', 'strength', 'opportunity', 'strengths', 'good', 'good', 'strengths', 'best', 'good', 'stronger', 'good', 'good', 'good', 'good', 'strong', 'better', 'improvements', 'strength', 'strong', 'strength', 'attractive', 'good', 'good', 'good', 'strength', 'strength', 'improvement', 'strong', 'strong', 'stronger', 'strength', 'strong', 'strong', 'good', 'good', 'achieve', 'progress', 'good', 'good', 'good', 'good', 'good', 'positive', 'strong', 'strength', 'advantaged', 'valuable', 'good', 'good', 'great']\n",
      "The list of found negative words: ['conviction', 'underperforming', 'declines', 'declines', 'negative', 'discontinued', 'negative', 'impairments', 'disclosed', 'failed', 'impairment', 'investigation', 'investigating', 'investigation', 'restructuring', 'restructure', 'challenges', 'restructuring', 'restructuring', 'negative', 'impairment', 'negative', 'persist', 'miss', 'downgraded', 'downgrade', 'challenges', 'closures', 'loss', 'negatively', 'challenges', 'liquidated', 'damages', 'outages', 'outages', 'negative', 'delays', 'delays', 'delays', 'losses', 'closing', 'best (with negation)', 'questions', 'question', 'question', 'question', 'unstable', 'questions', 'question', 'loss', 'drastically', 'drastic', 'question', 'problems', 'bad', 'miss', 'drag', 'closure', 'delays', 'conviction', 'mistake', 'imperative', 'question', 'miscalculations', 'missed', 'question', 'negative', 'questions', 'enjoy (with negation)', 'question', 'question', 'question', 'questions', 'difficult', 'investigations', 'question', 'undue', 'conviction', 'force', 'negative', 'question', 'question', 'effective (with negation)', 'loss', 'restructuring', 'question', 'question', 'loss', 'question', 'closing']\n",
      "\n"
     ]
    }
   ],
   "source": [
    "x['tone1'] = x['summary'].apply(tone_count_with_negation_check)"
   ]
  },
  {
   "cell_type": "code",
   "execution_count": 10,
   "metadata": {},
   "outputs": [],
   "source": [
    "# def fab(row):                                                  \n",
    "#     return row['A'] * row['B'], row['A'] + row['B']\n",
    "\n",
    "# df['newcolumn'], df['newcolumn2'] = zip(*df.apply(fab, axis=1))\n",
    "\n",
    "x = pd.concat([x.drop(['tone1'],axis=1),\n",
    "           x['tone1'].apply(pd.Series).rename(columns={0:'total_words',1:'pos_word_count',2:'neg_word_count', \n",
    "                                                       3:'pos_words', 4:'neg_words'})],axis=1)"
   ]
  },
  {
   "cell_type": "code",
   "execution_count": 11,
   "metadata": {},
   "outputs": [],
   "source": [
    "\n",
    "def get_GF_index(text):\n",
    "    calc_1 = readcalc.ReadCalc(text)\n",
    "    gf = calc_1.get_gunning_fog_index()\n",
    "    return gf"
   ]
  },
  {
   "cell_type": "code",
   "execution_count": 12,
   "metadata": {},
   "outputs": [
    {
     "name": "stdout",
     "output_type": "stream",
     "text": [
      "TEXT IS NOT BEING PRE PROCESSED\n",
      "type(text) == <class 'str'> ; Size Text: 54738\n",
      "TEXT IS NOT BEING PRE PROCESSED\n",
      "type(text) == <class 'str'> ; Size Text: 53592\n"
     ]
    }
   ],
   "source": [
    "x['GunningFogIndex'] = x['summary'].apply(get_GF_index)"
   ]
  },
  {
   "cell_type": "code",
   "execution_count": 13,
   "metadata": {},
   "outputs": [
    {
     "data": {
      "text/html": [
       "<div>\n",
       "<style scoped>\n",
       "    .dataframe tbody tr th:only-of-type {\n",
       "        vertical-align: middle;\n",
       "    }\n",
       "\n",
       "    .dataframe tbody tr th {\n",
       "        vertical-align: top;\n",
       "    }\n",
       "\n",
       "    .dataframe thead th {\n",
       "        text-align: right;\n",
       "    }\n",
       "</style>\n",
       "<table border=\"1\" class=\"dataframe\">\n",
       "  <thead>\n",
       "    <tr style=\"text-align: right;\">\n",
       "      <th></th>\n",
       "      <th>Unnamed: 0</th>\n",
       "      <th>PublishedTime</th>\n",
       "      <th>Quarter</th>\n",
       "      <th>Ticker</th>\n",
       "      <th>Year</th>\n",
       "      <th>summary</th>\n",
       "      <th>title</th>\n",
       "      <th>transcriptText</th>\n",
       "      <th>GunningFogIndex</th>\n",
       "      <th>total_words</th>\n",
       "      <th>pos_word_count</th>\n",
       "      <th>neg_word_count</th>\n",
       "      <th>pos_words</th>\n",
       "      <th>neg_words</th>\n",
       "    </tr>\n",
       "  </thead>\n",
       "  <tbody>\n",
       "    <tr>\n",
       "      <th>0</th>\n",
       "      <td>0</td>\n",
       "      <td>Oct. 25, 2018  9:01 PM ET</td>\n",
       "      <td>q3</td>\n",
       "      <td>GOOG</td>\n",
       "      <td>2018</td>\n",
       "      <td>Alphabet, Inc. (NASDAQ:GOOG) Q3 2018 Earnings ...</td>\n",
       "      <td>Alphabet (GOOG) Q3 2018 Results - Earnings Cal...</td>\n",
       "      <td>NaN</td>\n",
       "      <td>14.185458</td>\n",
       "      <td>9414</td>\n",
       "      <td>174</td>\n",
       "      <td>60</td>\n",
       "      <td>[good, innovation, benefit, strength, strong, ...</td>\n",
       "      <td>[undue, questions, negative, weakening, volati...</td>\n",
       "    </tr>\n",
       "    <tr>\n",
       "      <th>1</th>\n",
       "      <td>1</td>\n",
       "      <td>Oct. 30, 2018 11:20 AM ET</td>\n",
       "      <td>q3</td>\n",
       "      <td>GE</td>\n",
       "      <td>2018</td>\n",
       "      <td>General Electric Co. (NYSE:GE) Q3 2018 Earning...</td>\n",
       "      <td>General Electric (GE) Q3 2018 Results - Earnin...</td>\n",
       "      <td>NaN</td>\n",
       "      <td>14.038991</td>\n",
       "      <td>9081</td>\n",
       "      <td>181</td>\n",
       "      <td>90</td>\n",
       "      <td>[good, best, good, positive, win, strengthenin...</td>\n",
       "      <td>[conviction, underperforming, declines, declin...</td>\n",
       "    </tr>\n",
       "  </tbody>\n",
       "</table>\n",
       "</div>"
      ],
      "text/plain": [
       "   Unnamed: 0              PublishedTime Quarter Ticker  Year  \\\n",
       "0           0  Oct. 25, 2018  9:01 PM ET      q3   GOOG  2018   \n",
       "1           1  Oct. 30, 2018 11:20 AM ET      q3     GE  2018   \n",
       "\n",
       "                                             summary  \\\n",
       "0  Alphabet, Inc. (NASDAQ:GOOG) Q3 2018 Earnings ...   \n",
       "1  General Electric Co. (NYSE:GE) Q3 2018 Earning...   \n",
       "\n",
       "                                               title  transcriptText  \\\n",
       "0  Alphabet (GOOG) Q3 2018 Results - Earnings Cal...             NaN   \n",
       "1  General Electric (GE) Q3 2018 Results - Earnin...             NaN   \n",
       "\n",
       "   GunningFogIndex  total_words  pos_word_count  neg_word_count  \\\n",
       "0        14.185458         9414             174              60   \n",
       "1        14.038991         9081             181              90   \n",
       "\n",
       "                                           pos_words  \\\n",
       "0  [good, innovation, benefit, strength, strong, ...   \n",
       "1  [good, best, good, positive, win, strengthenin...   \n",
       "\n",
       "                                           neg_words  \n",
       "0  [undue, questions, negative, weakening, volati...  \n",
       "1  [conviction, underperforming, declines, declin...  "
      ]
     },
     "execution_count": 13,
     "metadata": {},
     "output_type": "execute_result"
    }
   ],
   "source": [
    "(x)"
   ]
  },
  {
   "cell_type": "code",
   "execution_count": null,
   "metadata": {},
   "outputs": [],
   "source": []
  }
 ],
 "metadata": {
  "kernelspec": {
   "display_name": "Python 3",
   "language": "python",
   "name": "python3"
  },
  "language_info": {
   "codemirror_mode": {
    "name": "ipython",
    "version": 3
   },
   "file_extension": ".py",
   "mimetype": "text/x-python",
   "name": "python",
   "nbconvert_exporter": "python",
   "pygments_lexer": "ipython3",
   "version": "3.7.0"
  }
 },
 "nbformat": 4,
 "nbformat_minor": 2
}
